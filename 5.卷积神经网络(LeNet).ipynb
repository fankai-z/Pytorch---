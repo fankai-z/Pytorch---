{
 "metadata": {
  "language_info": {
   "codemirror_mode": {
    "name": "ipython",
    "version": 3
   },
   "file_extension": ".py",
   "mimetype": "text/x-python",
   "name": "python",
   "nbconvert_exporter": "python",
   "pygments_lexer": "ipython3",
   "version": "3.8.5-final"
  },
  "orig_nbformat": 2,
  "kernelspec": {
   "name": "Python 3.8.5 64-bit ('pt1': conda)",
   "display_name": "Python 3.8.5 64-bit ('pt1': conda)",
   "metadata": {
    "interpreter": {
     "hash": "606908fc0c26d26e63c369289d4b4eb7ec00ae86ec85f16e9e0fe916ae62f542"
    }
   }
  }
 },
 "nbformat": 4,
 "nbformat_minor": 2,
 "cells": [
  {
   "source": [
    "## 1.二维卷积层"
   ],
   "cell_type": "markdown",
   "metadata": {}
  },
  {
   "source": [
    "### 1.1 二维互相关运算"
   ],
   "cell_type": "markdown",
   "metadata": {}
  },
  {
   "source": [
    "卷积层得名于卷积运算,但在卷积层中我们通常使用的是更加直观的``互相关运算``.  \n",
    "几个名词:  \n",
    "二维输入数组  \n",
    "二维核(卷积核,过滤器)  \n",
    "卷积核窗口(卷积窗口)  \n"
   ],
   "cell_type": "markdown",
   "metadata": {}
  },
  {
   "cell_type": "code",
   "execution_count": 1,
   "metadata": {},
   "outputs": [],
   "source": [
    "# 输入数组X, 核数组K, 输出数组Y.\n",
    "import torch\n",
    "from torch import nn\n",
    "def corr2d(X, K):\n",
    "    h, w = K.shape\n",
    "    Y = torch.zeros((X.shape[0]-h+1, X.shape[1]-w+1))\n",
    "\n",
    "    # 这个思路不错\n",
    "    for i in range(Y.shape[0]):\n",
    "        for j in range(Y.shape[1]):\n",
    "            Y[i, j] = (X[i:i+h, j:j+w]*K).sum()\n",
    "    return Y"
   ]
  },
  {
   "cell_type": "code",
   "execution_count": 2,
   "metadata": {},
   "outputs": [
    {
     "output_type": "stream",
     "name": "stdout",
     "text": [
      "tensor([[19., 25.],\n        [37., 43.]], device='cuda:0')\n"
     ]
    },
    {
     "output_type": "execute_result",
     "data": {
      "text/plain": [
       "device(type='cuda', index=0)"
      ]
     },
     "metadata": {},
     "execution_count": 2
    }
   ],
   "source": [
    "device = torch.device('cuda' if torch.cuda.is_available() else 'cpu')\n",
    "X = torch.tensor([[0, 1, 2], [3, 4, 5], [6, 7, 8]], device = device)\n",
    "K = torch.tensor([[0, 1], [2, 3]]).to(device)\n",
    "Y = corr2d(X, K).cuda()\n",
    "print(Y)\n",
    "Y.device"
   ]
  },
  {
   "source": [
    "### 1.2 二维卷积层"
   ],
   "cell_type": "markdown",
   "metadata": {}
  },
  {
   "source": [
    "将输入和卷积核做互相关运算,并加上一个``标量偏差``来得到输出.  \n",
    "模型参数包括卷积核和标量偏差."
   ],
   "cell_type": "markdown",
   "metadata": {}
  },
  {
   "cell_type": "code",
   "execution_count": 3,
   "metadata": {},
   "outputs": [],
   "source": [
    "class Conv2D(nn.Module):\n",
    "    def __init__(self, kernel_size):\n",
    "        super(Conv2D, self).__init__()\n",
    "        self.weight = nn.Parameter(torch.randn(kernel_size))\n",
    "        self.bias = nn.Parameter(torch.randn(1))\n",
    "    def forward(self, x):\n",
    "        return corr2d(x, self.weight) + self.bias"
   ]
  },
  {
   "cell_type": "code",
   "execution_count": 4,
   "metadata": {},
   "outputs": [
    {
     "output_type": "stream",
     "name": "stdout",
     "text": [
      "Setp 5, los 1.865\nSetp 10, los 0.385\nSetp 15, los 0.092\nSetp 20, los 0.024\n"
     ]
    }
   ],
   "source": [
    "X = torch.ones(6, 8)\n",
    "X[:, 2:6] = 0\n",
    "# print(X)\n",
    "K = torch.tensor([[1, -1]])\n",
    "Y = corr2d(X, K)\n",
    "# 实例化一个核数组形状是(1, 2)的二维卷积层\n",
    "conv2d = Conv2D(kernel_size=(1, 2))\n",
    "\n",
    "step = 20\n",
    "lr = 0.01\n",
    "for i in range(step):\n",
    "    Y_hat = conv2d(X)\n",
    "    l = ((Y_hat - Y) ** 2).sum()\n",
    "    l.backward()\n",
    "\n",
    "    # 梯度下降\n",
    "    conv2d.weight.data -= lr * conv2d.weight.grad\n",
    "    conv2d.bias.data -= lr * conv2d.bias.grad\n",
    "\n",
    "    # 梯度清0\n",
    "    conv2d.weight.grad.fill_(0)\n",
    "    conv2d.bias.grad.fill_(0)\n",
    "\n",
    "    if (i + 1) % 5 == 0:\n",
    "        print('Setp %d, los %.3f' % (i+1, l.item()))\n"
   ]
  },
  {
   "source": [
    "观察20次迭代后学习到的卷积核的参数."
   ],
   "cell_type": "markdown",
   "metadata": {}
  },
  {
   "cell_type": "code",
   "execution_count": 5,
   "metadata": {},
   "outputs": [
    {
     "output_type": "stream",
     "name": "stdout",
     "text": [
      "weight: tensor([[ 0.9663, -0.9568]])\nParameter containing:\ntensor([[ 0.9663, -0.9568]], requires_grad=True)\nbias: tensor([-0.0053])\n"
     ]
    }
   ],
   "source": [
    "print(\"weight:\", conv2d.weight.data)\n",
    "print(conv2d.weight)\n",
    "print(\"bias:\", conv2d.bias.data)"
   ]
  },
  {
   "source": [
    "### 1.3 互相关运算和卷积运算\n"
   ],
   "cell_type": "markdown",
   "metadata": {}
  },
  {
   "source": [
    "实际上,卷积运算与互相关运算类似.  \n",
    "``为了得到卷积运算的输出,只需要将核数组左右翻转并上下翻转,再与输入数组做互相关运算.``  \n",
    "\n",
    "为什么卷积层能够使用互相关运算替代卷积运算?  \n",
    "核数组都是学习出来的,卷积层无论使用互相关运算还是卷积运算都不影响模型预测时的输出.不同的地方只在与学习出来的参数的形式不同."
   ],
   "cell_type": "markdown",
   "metadata": {}
  },
  {
   "source": [
    "## 2.填充和步幅"
   ],
   "cell_type": "markdown",
   "metadata": {}
  },
  {
   "cell_type": "code",
   "execution_count": 6,
   "metadata": {},
   "outputs": [
    {
     "output_type": "stream",
     "name": "stdout",
     "text": [
      "torch.Size([8, 8])\ntorch.Size([1, 1, 8, 8])\n"
     ]
    },
    {
     "output_type": "execute_result",
     "data": {
      "text/plain": [
       "torch.Size([8, 8])"
      ]
     },
     "metadata": {},
     "execution_count": 6
    }
   ],
   "source": [
    "import torch\n",
    "from torch import nn\n",
    "\n",
    "def comp_conv2d(conv2d, X):\n",
    "    print(X.shape)\n",
    "    X = X.view((1, 1) +  X.shape)\n",
    "    print(X.shape)\n",
    "    Y = conv2d(X)\n",
    "    return Y.view(Y.shape[2:])\n",
    "\n",
    "conv2d = nn.Conv2d(in_channels=1, out_channels=1, kernel_size=3, padding=1)\n",
    "X = torch.rand(8, 8)\n",
    "comp_conv2d(conv2d, X).shape"
   ]
  },
  {
   "source": [
    "### 给Tensor增加维度.  \n",
    "X.shape => \\[8, 8\\]  \n",
    "X.view((1, 1) + X.shape) => \\[1, 1, 8, 8\\]  \n",
    "X.view((1,) + X.shape+ (1,)) => \\[1, 8, 8, 1\\]"
   ],
   "cell_type": "markdown",
   "metadata": {}
  },
  {
   "source": [
    "## 3.多输入通道和多输出通道"
   ],
   "cell_type": "markdown",
   "metadata": {}
  },
  {
   "source": [
    "### 1x1卷积层\n",
    "\n",
    "调整通道数"
   ],
   "cell_type": "markdown",
   "metadata": {}
  },
  {
   "source": [
    "1x1卷积的计算主要发生在通道维度上.  \n",
    "输出中的每个元素来自输入中在高和宽上相同位置的元素在不同通道之间的按权重累加.假设我们将通道维度当做特征维,将高和宽维度上的元素当成数据样本,``那么1x1卷积层的作用就与全连接层等价``."
   ],
   "cell_type": "markdown",
   "metadata": {}
  },
  {
   "source": [
    "* 1x1卷积层可以被当做保持高和宽维度形状不变的全连接层使用.这样便可以通过``调整网络层之间的通道数``来控制模型复杂度."
   ],
   "cell_type": "markdown",
   "metadata": {}
  },
  {
   "source": [
    "## 4.池化层\n",
    "\n",
    "它的提出是为了``缓解卷积层对位置的过度敏感性``."
   ],
   "cell_type": "markdown",
   "metadata": {}
  },
  {
   "source": [
    "## 5.卷积神经网络\n",
    "\n",
    "LeNet5 1998年"
   ],
   "cell_type": "markdown",
   "metadata": {}
  },
  {
   "source": [
    "Lenet分为``卷积层块``和``全连接层块``连个部分."
   ],
   "cell_type": "markdown",
   "metadata": {}
  },
  {
   "source": [
    "* 卷积层块  \n",
    "基本单位是``卷积层后接最大池化层``:卷积层用来识别图像里的``空间模式``,如线条和物体局部,之后的``最大池化层``则用来``降低卷积层对位置的敏感性``.  \n",
    "Lenet的卷积层块由两个这样的基本单位重复堆叠构成.\n",
    "\n",
    "Lenet第一个卷积层输出通道数为6,第二个卷积层输出通道数则增加到16.这是因为第二个卷积层比第一个卷积层的输入的高和宽要小,所以``增加输出通道使连个卷积层的参数尺寸类似``."
   ],
   "cell_type": "markdown",
   "metadata": {}
  },
  {
   "source": [
    "### LeNet模型\n",
    "下面通过Sequential类来实现Lenet模型."
   ],
   "cell_type": "markdown",
   "metadata": {}
  },
  {
   "cell_type": "code",
   "execution_count": 7,
   "metadata": {},
   "outputs": [
    {
     "output_type": "stream",
     "name": "stdout",
     "text": [
      "LeNet(\n  (conv): Sequential(\n    (0): Conv2d(1, 6, kernel_size=(5, 5), stride=(1, 1))\n    (1): Sigmoid()\n    (2): MaxPool2d(kernel_size=2, stride=2, padding=0, dilation=1, ceil_mode=False)\n    (3): Conv2d(6, 16, kernel_size=(5, 5), stride=(1, 1))\n    (4): Sigmoid()\n    (5): MaxPool2d(kernel_size=2, stride=2, padding=0, dilation=1, ceil_mode=False)\n  )\n  (fc): Sequential(\n    (0): Linear(in_features=256, out_features=120, bias=True)\n    (1): Sigmoid()\n    (2): Linear(in_features=120, out_features=84, bias=True)\n    (3): Sigmoid()\n    (4): Linear(in_features=84, out_features=10, bias=True)\n  )\n)\n"
     ]
    }
   ],
   "source": [
    "import time\n",
    "import torch\n",
    "from torch import nn, optim\n",
    "import torch.utils.data as Data\n",
    "import torchvision\n",
    "import torchvision.transforms as transforms\n",
    "\n",
    "import sys\n",
    "sys.path.append(\"..\")\n",
    "# import d2lzh_pytorch as d2l\n",
    "device = torch.device('cuda' if torch.cuda.is_available() else 'cpu')\n",
    "\n",
    "class LeNet(nn.Module):\n",
    "    def __init__(self):\n",
    "        super(LeNet, self).__init__()\n",
    "        self.conv = nn.Sequential(\n",
    "            nn.Conv2d(in_channels=1, out_channels=6, kernel_size=5),\n",
    "            nn.Sigmoid(),\n",
    "            nn.MaxPool2d(kernel_size=2, stride=2),\n",
    "            nn.Conv2d(6, 16, 5),\n",
    "            nn.Sigmoid(),\n",
    "            nn.MaxPool2d(2, 2)\n",
    "        )\n",
    "        self.fc = nn.Sequential(\n",
    "            nn.Linear(16*4*4, 120),\n",
    "            nn.Sigmoid(),\n",
    "            nn.Linear(120, 84),\n",
    "            nn.Sigmoid(),\n",
    "            nn.Linear(84, 10)\n",
    "        )\n",
    "\n",
    "    def forward(self, img):\n",
    "        feature = self.conv(img)\n",
    "        output = self.fc(feature.view(img.shape[0], -1))\n",
    "        return output\n",
    "\n",
    "net = LeNet()\n",
    "print(net)\n"
   ]
  },
  {
   "cell_type": "code",
   "execution_count": 8,
   "metadata": {},
   "outputs": [
    {
     "output_type": "execute_result",
     "data": {
      "text/plain": [
       "True"
      ]
     },
     "metadata": {},
     "execution_count": 8
    }
   ],
   "source": [
    "isinstance(net, torch.nn.Module)"
   ]
  },
  {
   "cell_type": "code",
   "execution_count": 9,
   "metadata": {},
   "outputs": [
    {
     "output_type": "execute_result",
     "data": {
      "text/plain": [
       "device(type='cpu')"
      ]
     },
     "metadata": {},
     "execution_count": 9
    }
   ],
   "source": [
    "list(net.parameters())[0].device"
   ]
  },
  {
   "cell_type": "code",
   "execution_count": 10,
   "metadata": {},
   "outputs": [
    {
     "output_type": "execute_result",
     "data": {
      "text/plain": [
       "device(type='cuda')"
      ]
     },
     "metadata": {},
     "execution_count": 10
    }
   ],
   "source": [
    "device"
   ]
  },
  {
   "cell_type": "code",
   "execution_count": 11,
   "metadata": {},
   "outputs": [
    {
     "output_type": "execute_result",
     "data": {
      "text/plain": [
       "LeNet(\n",
       "  (conv): Sequential(\n",
       "    (0): Conv2d(1, 6, kernel_size=(5, 5), stride=(1, 1))\n",
       "    (1): Sigmoid()\n",
       "    (2): MaxPool2d(kernel_size=2, stride=2, padding=0, dilation=1, ceil_mode=False)\n",
       "    (3): Conv2d(6, 16, kernel_size=(5, 5), stride=(1, 1))\n",
       "    (4): Sigmoid()\n",
       "    (5): MaxPool2d(kernel_size=2, stride=2, padding=0, dilation=1, ceil_mode=False)\n",
       "  )\n",
       "  (fc): Sequential(\n",
       "    (0): Linear(in_features=256, out_features=120, bias=True)\n",
       "    (1): Sigmoid()\n",
       "    (2): Linear(in_features=120, out_features=84, bias=True)\n",
       "    (3): Sigmoid()\n",
       "    (4): Linear(in_features=84, out_features=10, bias=True)\n",
       "  )\n",
       ")"
      ]
     },
     "metadata": {},
     "execution_count": 11
    }
   ],
   "source": [
    "net.to(device)"
   ]
  },
  {
   "source": [
    "#### 获取数据和训练模型"
   ],
   "cell_type": "markdown",
   "metadata": {}
  },
  {
   "cell_type": "code",
   "execution_count": 12,
   "metadata": {
    "tags": []
   },
   "outputs": [],
   "source": [
    "mnist_train = torchvision.datasets.FashionMNIST(root='~/Datasets/FashionMNIST', train=True, download=True, transform=transforms.ToTensor())\n",
    "mnist_test = torchvision.datasets.FashionMNIST(root='~/Datasets/FashionMNIST', train=False, download=True, transform=transforms.ToTensor())"
   ]
  },
  {
   "cell_type": "code",
   "execution_count": 13,
   "metadata": {},
   "outputs": [],
   "source": [
    "batch_size = 256\n",
    "train_iter = torch.utils.data.DataLoader(mnist_train, batch_size=batch_size, shuffle=True)\n",
    "\n",
    "test_iter = torch.utils.data.DataLoader(mnist_test, batch_size=batch_size, shuffle=False)"
   ]
  },
  {
   "cell_type": "code",
   "execution_count": 14,
   "metadata": {},
   "outputs": [],
   "source": [
    "def evaluate_accuracy(data_iter, net, device=None):\n",
    "    if device is None and isinstance(net, torch.nn.Module):\n",
    "        # 如果没有指定device就使用net的device.\n",
    "        device = list(net.parameters())[0].device\n",
    "    acc_sum, n = 0.0, 0\n",
    "    with torch.no_grad():\n",
    "        for X, y in data_iter:\n",
    "            if isinstance(net, torch.nn.Module):\n",
    "                net.eval() # 评估模式,关闭dropout\n",
    "                acc_sum += (net(X.to(device)).argmax(dim=1) == y.to(device)).float().sum().item()\n",
    "                net.train() # 改回训练模式\n",
    "                \n",
    "            # else: # 自定义的模型\n",
    "            #     if('is_training' in net.__code__.co_varnames): # 如果有is_training这个参数\n",
    "            #         # 将is_traning设置成False\n",
    "            #         acc_sum += (net(X, is_training=False).argmax(dim=1) == y).float().sum().item()\n",
    "            #     else:\n",
    "            #         acc_sum += (net(X).argmax(dim=1) == y).float().sum().item()\n",
    "            n += y.shape[0]\n",
    "    return acc_sum / n"
   ]
  },
  {
   "cell_type": "code",
   "execution_count": 15,
   "metadata": {},
   "outputs": [],
   "source": [
    "def train_ch5(net, train_iter, test_iter, batch_size, optimizer, device, num_epochs):\n",
    "    net = net.to(device)\n",
    "    print(\"training on\", device)\n",
    "    loss = torch.nn.CrossEntropyLoss()\n",
    "    for epoch in range(num_epochs):\n",
    "        train_l_sum, train_acc_sum, n, batch_count, start = 0.0, 0.0, 0, 0, time.time()\n",
    "        for X, y in train_iter:\n",
    "            X = X.to(device)\n",
    "            y = y.to(device)\n",
    "            y_hat = net(X)\n",
    "            # print(y_hat.shape)\n",
    "            # print(y.shape)\n",
    "            l = loss(y_hat, y)\n",
    "            optimizer.zero_grad()\n",
    "            l.backward()\n",
    "            optimizer.step()\n",
    "            train_l_sum += l.cpu().item()\n",
    "            train_acc_sum += (y_hat.argmax(dim=1) == y).sum().cpu().item()\n",
    "            n += y.shape[0]\n",
    "            batch_count += 1\n",
    "        test_acc = evaluate_accuracy(test_iter, net)\n",
    "        print('epoch %d, loss %.4f, train acc %.3f, test acc %.3f, time %.1f sec'\n",
    "              % (epoch + 1, train_l_sum / batch_count, train_acc_sum / n, test_acc, time.time() - start))\n"
   ]
  },
  {
   "cell_type": "code",
   "execution_count": 16,
   "metadata": {},
   "outputs": [
    {
     "output_type": "stream",
     "name": "stdout",
     "text": [
      "training on cuda\n",
      "epoch 1, loss 1.8064, train acc 0.331, test acc 0.587, time 3.9 sec\n",
      "epoch 2, loss 0.9569, train acc 0.625, test acc 0.664, time 3.7 sec\n",
      "epoch 3, loss 0.7969, train acc 0.706, test acc 0.723, time 3.6 sec\n",
      "epoch 4, loss 0.7031, train acc 0.736, test acc 0.743, time 3.7 sec\n",
      "epoch 5, loss 0.6454, train acc 0.752, test acc 0.760, time 3.6 sec\n"
     ]
    }
   ],
   "source": [
    "lr, num_epochs = 0.001, 5\n",
    "optimizer  = torch.optim.Adam(net.parameters(), lr=lr)\n",
    "train_ch5(net, train_iter, test_iter, batch_size, optimizer, device, num_epochs)"
   ]
  },
  {
   "cell_type": "code",
   "execution_count": null,
   "metadata": {},
   "outputs": [],
   "source": []
  },
  {
   "cell_type": "code",
   "execution_count": null,
   "metadata": {},
   "outputs": [],
   "source": []
  }
 ]
}