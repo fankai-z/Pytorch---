{
 "metadata": {
  "language_info": {
   "codemirror_mode": {
    "name": "ipython",
    "version": 3
   },
   "file_extension": ".py",
   "mimetype": "text/x-python",
   "name": "python",
   "nbconvert_exporter": "python",
   "pygments_lexer": "ipython3",
   "version": "3.8.5-final"
  },
  "orig_nbformat": 2,
  "kernelspec": {
   "name": "python3",
   "display_name": "Python 3.8.5 64-bit ('pt1': conda)",
   "metadata": {
    "interpreter": {
     "hash": "cc7be5041237249e418598168f3d21261ff377f8931478ad5b74431d6b4bcfa7"
    }
   }
  }
 },
 "nbformat": 4,
 "nbformat_minor": 2,
 "cells": [
  {
   "source": [
    "### 循环神经网络"
   ],
   "cell_type": "markdown",
   "metadata": {}
  },
  {
   "source": [
    "### RNN Layer的使用"
   ],
   "cell_type": "markdown",
   "metadata": {}
  },
  {
   "cell_type": "code",
   "execution_count": 1,
   "metadata": {},
   "outputs": [],
   "source": [
    "import torch\n",
    "import torch.nn as nn\n",
    "import torch.optim as optim\n",
    "import numpy as np\n",
    "from matplotlib import pyplot as plt\n",
    "\n",
    "device = torch.device('cuda' if torch.cuda.is_available() else 'cpu')"
   ]
  },
  {
   "cell_type": "code",
   "execution_count": 2,
   "metadata": {},
   "outputs": [
    {
     "output_type": "execute_result",
     "data": {
      "text/plain": [
       "odict_keys(['weight_ih_l0', 'weight_hh_l0', 'bias_ih_l0', 'bias_hh_l0'])"
      ]
     },
     "metadata": {},
     "execution_count": 2
    }
   ],
   "source": [
    "rnn = nn.RNN(100, 10) \n",
    "# (word vec, dim) 编码方式为100维，10维表示memory或者说是h\n",
    "rnn._parameters.keys()"
   ]
  },
  {
   "cell_type": "code",
   "execution_count": 3,
   "metadata": {},
   "outputs": [
    {
     "output_type": "execute_result",
     "data": {
      "text/plain": [
       "(torch.Size([10, 10]), torch.Size([10, 100]))"
      ]
     },
     "metadata": {},
     "execution_count": 3
    }
   ],
   "source": [
    "# l0表示layer 0, 第0层.\n",
    "rnn.weight_hh_l0.shape, rnn.weight_ih_l0.shape # (10, 10) (10, 100)"
   ]
  },
  {
   "cell_type": "code",
   "execution_count": 4,
   "metadata": {},
   "outputs": [
    {
     "output_type": "execute_result",
     "data": {
      "text/plain": [
       "(torch.Size([10]), torch.Size([10]))"
      ]
     },
     "metadata": {},
     "execution_count": 4
    }
   ],
   "source": [
    "rnn.bias_hh_l0.shape, rnn.bias_ih_l0.shape # (10) (10)"
   ]
  },
  {
   "source": [
    "nn.`RNN`(input_size=100, hidden_size=20, num_layers=1)  \n",
    "\n",
    "`input_size`:编码方式的维度数量  \n",
    "`hidden_size`:描述memory或者是hidden state的维度数量  \n",
    "`num_layers`:默认是1。number of recurrent num_layers  "
   ],
   "cell_type": "markdown",
   "metadata": {}
  },
  {
   "source": [
    "out, ht = forward(x, h0)  \n",
    "\n",
    "`x`:\\[seq len, b, word vec\\]  \n",
    "`ho/ht`:\\[num layers, b, h dim\\], 最后一个时间戳所有层的memory的信息。\\[1, 3, 20\\]  \n",
    "`out`:\\[seq len, b, h dim\\], 每个时间戳最后一层（h0,h1,h2...）最后一个ht的状态。\\[5, 3, 20\\]  "
   ],
   "cell_type": "markdown",
   "metadata": {}
  },
  {
   "cell_type": "code",
   "execution_count": 5,
   "metadata": {},
   "outputs": [
    {
     "output_type": "stream",
     "name": "stdout",
     "text": [
      "RNN(100, 20)\ntorch.Size([10, 3, 20]) torch.Size([1, 3, 20])\n"
     ]
    }
   ],
   "source": [
    "rnn = nn.RNN(input_size=100, hidden_size=20, num_layers=1)\n",
    "print(rnn)\n",
    "x = torch.randn(10, 3, 100) # [seq len, b, word vec]\n",
    "out, h = rnn(x, torch.zeros(1, 3, 20)) # 传入的torch.zeros(1, 3, 20)是h0.\n",
    "# out, h = rnn(x)\n",
    "print(out.shape, h.shape)"
   ]
  },
  {
   "source": [
    "当有两层时：  \n",
    "ht = \\[2, 3, 20\\], 随层数变化  \n",
    "out = \\[5, 3, 20\\], 不变"
   ],
   "cell_type": "markdown",
   "metadata": {}
  },
  {
   "cell_type": "code",
   "execution_count": 6,
   "metadata": {},
   "outputs": [
    {
     "output_type": "execute_result",
     "data": {
      "text/plain": [
       "odict_keys(['weight_ih_l0', 'weight_hh_l0', 'bias_ih_l0', 'bias_hh_l0', 'weight_ih_l1', 'weight_hh_l1', 'bias_ih_l1', 'bias_hh_l1'])"
      ]
     },
     "metadata": {},
     "execution_count": 6
    }
   ],
   "source": [
    "rnn = nn.RNN(input_size=100, hidden_size=10, num_layers=2)\n",
    "rnn._parameters.keys()"
   ]
  },
  {
   "cell_type": "code",
   "execution_count": 7,
   "metadata": {},
   "outputs": [
    {
     "output_type": "execute_result",
     "data": {
      "text/plain": [
       "(torch.Size([10, 10]), torch.Size([10, 100]))"
      ]
     },
     "metadata": {},
     "execution_count": 7
    }
   ],
   "source": [
    "rnn.weight_hh_l0.shape, rnn.weight_ih_l0.shape"
   ]
  },
  {
   "cell_type": "code",
   "execution_count": 8,
   "metadata": {},
   "outputs": [
    {
     "output_type": "execute_result",
     "data": {
      "text/plain": [
       "(torch.Size([10, 10]), torch.Size([10, 10]))"
      ]
     },
     "metadata": {},
     "execution_count": 8
    }
   ],
   "source": [
    "rnn.weight_hh_l1.shape, rnn.weight_ih_l1.shape"
   ]
  },
  {
   "cell_type": "code",
   "execution_count": 9,
   "metadata": {},
   "outputs": [
    {
     "output_type": "stream",
     "name": "stdout",
     "text": [
      "RNN(100, 20, num_layers=4)\ntorch.Size([10, 3, 20]) torch.Size([4, 3, 20])\n"
     ]
    }
   ],
   "source": [
    "rnn = nn.RNN(input_size=100, hidden_size=20, num_layers=4)\n",
    "print(rnn)\n",
    "x = torch.randn(10, 3, 100)\n",
    "out, h = rnn(x)\n",
    "print(out.shape, h.shape) # [10, 3, 20] [4, 3, 20]"
   ]
  },
  {
   "source": [
    "### RNNCell与RNN的区别"
   ],
   "cell_type": "markdown",
   "metadata": {}
  },
  {
   "source": [
    "RNNCell：不会循环T次  \n",
    "RNN：加入循环T次  \n",
    "初始化参数一样，forward参数不一样  \n",
    "\n",
    "`ht = rnncell(xt, ht_1)`  \n",
    "\n",
    "xt:\\[b, word vec\\]  \n",
    "ht_1/ht:\\[num layers, b, h dim\\]  \n",
    "out = torch.stack(\\[h1, h2,...,ht\\])"
   ],
   "cell_type": "markdown",
   "metadata": {}
  },
  {
   "cell_type": "code",
   "execution_count": 10,
   "metadata": {},
   "outputs": [
    {
     "output_type": "stream",
     "name": "stdout",
     "text": [
      "torch.Size([3, 20])\n"
     ]
    }
   ],
   "source": [
    "x = torch.randn(10, 3, 100)\n",
    "cell1 = nn.RNNCell(input_size=100, hidden_size=20)\n",
    "h1 = torch.zeros(3, 20)\n",
    "for xt in x: # xt [3, 100]\n",
    "    h1 = cell1(xt, h1)\n",
    "print(h1.shape) # []"
   ]
  },
  {
   "cell_type": "code",
   "execution_count": 11,
   "metadata": {},
   "outputs": [
    {
     "output_type": "stream",
     "name": "stdout",
     "text": [
      "torch.Size([3, 20])\n"
     ]
    }
   ],
   "source": [
    "cell1 = nn.RNNCell(100, 30) # 把100的input变为30的memory\n",
    "cell2 = nn.RNNCell(30, 20)\n",
    "h1 = torch.zeros(3, 30)\n",
    "h2 = torch.zeros(3, 20)\n",
    "for xt in x:\n",
    "    h1 = cell1(xt, h1)\n",
    "    h2 = cell2(h1, h2)\n",
    "print(h2.shape)"
   ]
  },
  {
   "source": [
    "### 时间序列预测实战"
   ],
   "cell_type": "markdown",
   "metadata": {}
  },
  {
   "cell_type": "code",
   "execution_count": 12,
   "metadata": {},
   "outputs": [],
   "source": [
    "num_time_steps = 50\n",
    "input_size = 1\n",
    "hidden_size = 16\n",
    "output_size = 1\n",
    "lr = 0.01"
   ]
  },
  {
   "cell_type": "code",
   "execution_count": 15,
   "metadata": {},
   "outputs": [],
   "source": [
    "class Net(nn.Module):\n",
    "    def __init__(self,):\n",
    "        super(Net, self).__init__()\n",
    "        self.rnn = nn.RNN(\n",
    "            input_size=input_size,\n",
    "            hidden_size=hidden_size,\n",
    "            num_layers=1,\n",
    "            batch_first=True, # [b, seq len, word vec]\n",
    "        )\n",
    "        for p in self.rnn.parameters():\n",
    "            nn.init.normal_(p, mean=0.0, std=0.001)\n",
    "        self.linear = nn.Linear(hidden_size, output_size)\n",
    "    \n",
    "    def forward(self, x, hidden_prev):\n",
    "        # out:[b, seq len, hidden]\n",
    "        # hidden_prev:[b, 1层, h]\n",
    "        out, hidden_prev = self.rnn(x, hidden_prev)\n",
    "        # [1, seq, h] -> [seq, h]\n",
    "        out = out.view(-1, hidden_size)\n",
    "        out = self.linear(out) # [seq, h] -> [seq, 1]\n",
    "        out = out.unsqueeze(dim=0) # -> [1, seq, 1] 和y比较做均方差\n",
    "        return out, hidden_prev"
   ]
  },
  {
   "source": [
    "model = Net()\n",
    "criterion = nn.MSELoss()\n",
    "optimizer = optim.Adam(model.parameters(), lr)\n",
    "\n",
    "hidden_prev = torch.zeros(1, 1, hidden_size)\n",
    "\n",
    "for iter in range(6000):\n",
    "    start = np.random.randint(3, size=1)[0]\n",
    "    time_steps = np.linspace(start, start+10, num_time_steps)\n",
    "    data = np.sin(time_steps)\n",
    "    data = data.reshape(num_time_steps, 1)\n",
    "    x = torch.tensor(data[:-1]).float().view(1, num_time_steps-1, 1)\n",
    "    y = torch.tensor(data[1:]).float().view(1, num_time_steps-1, 1)\n",
    "\n",
    "    output, hidden_prev = model(x, hidden_prev)\n",
    "    hidden_prev = hidden_prev.detach()\n",
    "\n",
    "    loss = criterion(output, y)\n",
    "    model.zero_grad()\n",
    "    loss.backward()\n",
    "    optimizer.step()\n",
    "\n",
    "    if iter % 100 == 0:\n",
    "        print(\"Iteration: {} loss {}\".format(iter, loss.item()))\n",
    "\n"
   ],
   "cell_type": "code",
   "metadata": {},
   "execution_count": 16,
   "outputs": [
    {
     "output_type": "stream",
     "name": "stdout",
     "text": [
      "Iteration: 0 loss 0.4820752739906311\n",
      "Iteration: 100 loss 0.002535458654165268\n",
      "Iteration: 200 loss 0.008622479625046253\n",
      "Iteration: 300 loss 0.0018586385995149612\n",
      "Iteration: 400 loss 0.00041242362931370735\n",
      "Iteration: 500 loss 0.0008607921772636473\n",
      "Iteration: 600 loss 0.001343193813227117\n",
      "Iteration: 700 loss 0.000715150497853756\n",
      "Iteration: 800 loss 0.0014985622838139534\n",
      "Iteration: 900 loss 0.00047577283112332225\n",
      "Iteration: 1000 loss 0.0006612268043681979\n",
      "Iteration: 1100 loss 0.0005459906533360481\n",
      "Iteration: 1200 loss 0.0009342508856207132\n",
      "Iteration: 1300 loss 0.0017088368767872453\n",
      "Iteration: 1400 loss 0.0005086566088721156\n",
      "Iteration: 1500 loss 0.00044047634582966566\n",
      "Iteration: 1600 loss 0.0010506599210202694\n",
      "Iteration: 1700 loss 0.0006036600098013878\n",
      "Iteration: 1800 loss 0.0009934697300195694\n",
      "Iteration: 1900 loss 0.00011338560580043122\n",
      "Iteration: 2000 loss 0.0005401273956522346\n",
      "Iteration: 2100 loss 0.0010527617996558547\n",
      "Iteration: 2200 loss 0.0006973988492973149\n",
      "Iteration: 2300 loss 0.0008506181766279042\n",
      "Iteration: 2400 loss 0.00034591814619489014\n",
      "Iteration: 2500 loss 0.00018338498193770647\n",
      "Iteration: 2600 loss 0.00040683310362510383\n",
      "Iteration: 2700 loss 0.001075530657544732\n",
      "Iteration: 2800 loss 0.0004067387490067631\n",
      "Iteration: 2900 loss 0.00033004756551235914\n",
      "Iteration: 3000 loss 0.0007809224189259112\n",
      "Iteration: 3100 loss 4.919900311506353e-05\n",
      "Iteration: 3200 loss 0.0002003131521632895\n",
      "Iteration: 3300 loss 3.460051448200829e-05\n",
      "Iteration: 3400 loss 0.00034192929160781205\n",
      "Iteration: 3500 loss 0.00046198267955332994\n",
      "Iteration: 3600 loss 0.00021819520043209195\n",
      "Iteration: 3700 loss 0.0006472307140938938\n",
      "Iteration: 3800 loss 0.00037235242780297995\n",
      "Iteration: 3900 loss 0.0006007855990901589\n",
      "Iteration: 4000 loss 0.00020906382997054607\n",
      "Iteration: 4100 loss 0.0003585562517400831\n",
      "Iteration: 4200 loss 0.00018416816601529717\n",
      "Iteration: 4300 loss 0.0018565868958830833\n",
      "Iteration: 4400 loss 3.952282349928282e-05\n",
      "Iteration: 4500 loss 0.00029317167354747653\n",
      "Iteration: 4600 loss 0.0001820780453272164\n",
      "Iteration: 4700 loss 0.0005578679847531021\n",
      "Iteration: 4800 loss 0.00030575809068977833\n",
      "Iteration: 4900 loss 0.00023998883261810988\n",
      "Iteration: 5000 loss 0.00048695047735236585\n",
      "Iteration: 5100 loss 0.0005037528462707996\n",
      "Iteration: 5200 loss 0.00027815267094410956\n",
      "Iteration: 5300 loss 0.000675816903822124\n",
      "Iteration: 5400 loss 0.00029536985675804317\n",
      "Iteration: 5500 loss 0.0005794308381155133\n",
      "Iteration: 5600 loss 0.00011488996096886694\n",
      "Iteration: 5700 loss 4.721148798125796e-05\n",
      "Iteration: 5800 loss 0.00012402914580889046\n",
      "Iteration: 5900 loss 0.00014645388000644743\n"
     ]
    }
   ]
  },
  {
   "cell_type": "code",
   "execution_count": 17,
   "metadata": {},
   "outputs": [],
   "source": [
    "start = np.random.randint(3, size=1)[0]\n",
    "time_steps = np.linspace(start, start + 10, num_time_steps)\n",
    "data = np.sin(time_steps)\n",
    "data = data.reshape(num_time_steps, 1)\n",
    "x = torch.tensor(data[:-1]).float().view(1, num_time_steps - 1, 1)\n",
    "y = torch.tensor(data[1:]).float().view(1, num_time_steps - 1, 1)"
   ]
  },
  {
   "cell_type": "code",
   "execution_count": 18,
   "metadata": {},
   "outputs": [
    {
     "output_type": "display_data",
     "data": {
      "text/plain": "<Figure size 432x288 with 1 Axes>",
      "image/svg+xml": "<?xml version=\"1.0\" encoding=\"utf-8\" standalone=\"no\"?>\r\n<!DOCTYPE svg PUBLIC \"-//W3C//DTD SVG 1.1//EN\"\r\n  \"http://www.w3.org/Graphics/SVG/1.1/DTD/svg11.dtd\">\r\n<!-- Created with matplotlib (https://matplotlib.org/) -->\r\n<svg height=\"248.518125pt\" version=\"1.1\" viewBox=\"0 0 386.845313 248.518125\" width=\"386.845313pt\" xmlns=\"http://www.w3.org/2000/svg\" xmlns:xlink=\"http://www.w3.org/1999/xlink\">\r\n <metadata>\r\n  <rdf:RDF xmlns:cc=\"http://creativecommons.org/ns#\" xmlns:dc=\"http://purl.org/dc/elements/1.1/\" xmlns:rdf=\"http://www.w3.org/1999/02/22-rdf-syntax-ns#\">\r\n   <cc:Work>\r\n    <dc:type rdf:resource=\"http://purl.org/dc/dcmitype/StillImage\"/>\r\n    <dc:date>2020-11-19T20:49:40.882821</dc:date>\r\n    <dc:format>image/svg+xml</dc:format>\r\n    <dc:creator>\r\n     <cc:Agent>\r\n      <dc:title>Matplotlib v3.3.3, https://matplotlib.org/</dc:title>\r\n     </cc:Agent>\r\n    </dc:creator>\r\n   </cc:Work>\r\n  </rdf:RDF>\r\n </metadata>\r\n <defs>\r\n  <style type=\"text/css\">*{stroke-linecap:butt;stroke-linejoin:round;}</style>\r\n </defs>\r\n <g id=\"figure_1\">\r\n  <g id=\"patch_1\">\r\n   <path d=\"M 0 248.518125 \r\nL 386.845313 248.518125 \r\nL 386.845313 0 \r\nL 0 0 \r\nz\r\n\" style=\"fill:none;\"/>\r\n  </g>\r\n  <g id=\"axes_1\">\r\n   <g id=\"patch_2\">\r\n    <path d=\"M 44.845313 224.64 \r\nL 379.645313 224.64 \r\nL 379.645313 7.2 \r\nL 44.845313 7.2 \r\nz\r\n\" style=\"fill:#ffffff;\"/>\r\n   </g>\r\n   <g id=\"PathCollection_1\">\r\n    <defs>\r\n     <path d=\"M 0 4.743416 \r\nC 1.257969 4.743416 2.464584 4.24362 3.354102 3.354102 \r\nC 4.24362 2.464584 4.743416 1.257969 4.743416 0 \r\nC 4.743416 -1.257969 4.24362 -2.464584 3.354102 -3.354102 \r\nC 2.464584 -4.24362 1.257969 -4.743416 0 -4.743416 \r\nC -1.257969 -4.743416 -2.464584 -4.24362 -3.354102 -3.354102 \r\nC -4.24362 -2.464584 -4.743416 -1.257969 -4.743416 0 \r\nC -4.743416 1.257969 -4.24362 2.464584 -3.354102 3.354102 \r\nC -2.464584 4.24362 -1.257969 4.743416 0 4.743416 \r\nz\r\n\" id=\"m522d7b1ab5\" style=\"stroke:#1f77b4;\"/>\r\n    </defs>\r\n    <g clip-path=\"url(#pddf66d90b8)\">\r\n     <use style=\"fill:#1f77b4;stroke:#1f77b4;\" x=\"60.063494\" xlink:href=\"#m522d7b1ab5\" y=\"25.676894\"/>\r\n     <use style=\"fill:#1f77b4;stroke:#1f77b4;\" x=\"66.274997\" xlink:href=\"#m522d7b1ab5\" y=\"35.683695\"/>\r\n     <use style=\"fill:#1f77b4;stroke:#1f77b4;\" x=\"72.4865\" xlink:href=\"#m522d7b1ab5\" y=\"48.934314\"/>\r\n     <use style=\"fill:#1f77b4;stroke:#1f77b4;\" x=\"78.698003\" xlink:href=\"#m522d7b1ab5\" y=\"64.878784\"/>\r\n     <use style=\"fill:#1f77b4;stroke:#1f77b4;\" x=\"84.909505\" xlink:href=\"#m522d7b1ab5\" y=\"82.855335\"/>\r\n     <use style=\"fill:#1f77b4;stroke:#1f77b4;\" x=\"91.121008\" xlink:href=\"#m522d7b1ab5\" y=\"102.117848\"/>\r\n     <use style=\"fill:#1f77b4;stroke:#1f77b4;\" x=\"97.332511\" xlink:href=\"#m522d7b1ab5\" y=\"121.866831\"/>\r\n     <use style=\"fill:#1f77b4;stroke:#1f77b4;\" x=\"103.544014\" xlink:href=\"#m522d7b1ab5\" y=\"141.282605\"/>\r\n     <use style=\"fill:#1f77b4;stroke:#1f77b4;\" x=\"109.755517\" xlink:href=\"#m522d7b1ab5\" y=\"159.559322\"/>\r\n     <use style=\"fill:#1f77b4;stroke:#1f77b4;\" x=\"115.967019\" xlink:href=\"#m522d7b1ab5\" y=\"175.938403\"/>\r\n     <use style=\"fill:#1f77b4;stroke:#1f77b4;\" x=\"122.178522\" xlink:href=\"#m522d7b1ab5\" y=\"189.74004\"/>\r\n     <use style=\"fill:#1f77b4;stroke:#1f77b4;\" x=\"128.390025\" xlink:href=\"#m522d7b1ab5\" y=\"200.391387\"/>\r\n     <use style=\"fill:#1f77b4;stroke:#1f77b4;\" x=\"134.601528\" xlink:href=\"#m522d7b1ab5\" y=\"207.450372\"/>\r\n     <use style=\"fill:#1f77b4;stroke:#1f77b4;\" x=\"140.81303\" xlink:href=\"#m522d7b1ab5\" y=\"210.624009\"/>\r\n     <use style=\"fill:#1f77b4;stroke:#1f77b4;\" x=\"147.024533\" xlink:href=\"#m522d7b1ab5\" y=\"209.780567\"/>\r\n     <use style=\"fill:#1f77b4;stroke:#1f77b4;\" x=\"153.236036\" xlink:href=\"#m522d7b1ab5\" y=\"204.955065\"/>\r\n     <use style=\"fill:#1f77b4;stroke:#1f77b4;\" x=\"159.447539\" xlink:href=\"#m522d7b1ab5\" y=\"196.347782\"/>\r\n     <use style=\"fill:#1f77b4;stroke:#1f77b4;\" x=\"165.659042\" xlink:href=\"#m522d7b1ab5\" y=\"184.315959\"/>\r\n     <use style=\"fill:#1f77b4;stroke:#1f77b4;\" x=\"171.870544\" xlink:href=\"#m522d7b1ab5\" y=\"169.358979\"/>\r\n     <use style=\"fill:#1f77b4;stroke:#1f77b4;\" x=\"178.082047\" xlink:href=\"#m522d7b1ab5\" y=\"152.097632\"/>\r\n     <use style=\"fill:#1f77b4;stroke:#1f77b4;\" x=\"184.29355\" xlink:href=\"#m522d7b1ab5\" y=\"133.248348\"/>\r\n     <use style=\"fill:#1f77b4;stroke:#1f77b4;\" x=\"190.505053\" xlink:href=\"#m522d7b1ab5\" y=\"113.593465\"/>\r\n     <use style=\"fill:#1f77b4;stroke:#1f77b4;\" x=\"196.716556\" xlink:href=\"#m522d7b1ab5\" y=\"93.94876\"/>\r\n     <use style=\"fill:#1f77b4;stroke:#1f77b4;\" x=\"202.928058\" xlink:href=\"#m522d7b1ab5\" y=\"75.129584\"/>\r\n     <use style=\"fill:#1f77b4;stroke:#1f77b4;\" x=\"209.139561\" xlink:href=\"#m522d7b1ab5\" y=\"57.917025\"/>\r\n     <use style=\"fill:#1f77b4;stroke:#1f77b4;\" x=\"215.351064\" xlink:href=\"#m522d7b1ab5\" y=\"43.025493\"/>\r\n     <use style=\"fill:#1f77b4;stroke:#1f77b4;\" x=\"221.562567\" xlink:href=\"#m522d7b1ab5\" y=\"31.073057\"/>\r\n     <use style=\"fill:#1f77b4;stroke:#1f77b4;\" x=\"227.774069\" xlink:href=\"#m522d7b1ab5\" y=\"22.555805\"/>\r\n     <use style=\"fill:#1f77b4;stroke:#1f77b4;\" x=\"233.985572\" xlink:href=\"#m522d7b1ab5\" y=\"17.827246\"/>\r\n     <use style=\"fill:#1f77b4;stroke:#1f77b4;\" x=\"240.197075\" xlink:href=\"#m522d7b1ab5\" y=\"17.083636\"/>\r\n     <use style=\"fill:#1f77b4;stroke:#1f77b4;\" x=\"246.408578\" xlink:href=\"#m522d7b1ab5\" y=\"20.355841\"/>\r\n     <use style=\"fill:#1f77b4;stroke:#1f77b4;\" x=\"252.620081\" xlink:href=\"#m522d7b1ab5\" y=\"27.508041\"/>\r\n     <use style=\"fill:#1f77b4;stroke:#1f77b4;\" x=\"258.831583\" xlink:href=\"#m522d7b1ab5\" y=\"38.243398\"/>\r\n     <use style=\"fill:#1f77b4;stroke:#1f77b4;\" x=\"265.043086\" xlink:href=\"#m522d7b1ab5\" y=\"52.116325\"/>\r\n     <use style=\"fill:#1f77b4;stroke:#1f77b4;\" x=\"271.254589\" xlink:href=\"#m522d7b1ab5\" y=\"68.551041\"/>\r\n     <use style=\"fill:#1f77b4;stroke:#1f77b4;\" x=\"277.466092\" xlink:href=\"#m522d7b1ab5\" y=\"86.865414\"/>\r\n     <use style=\"fill:#1f77b4;stroke:#1f77b4;\" x=\"283.677595\" xlink:href=\"#m522d7b1ab5\" y=\"106.299313\"/>\r\n     <use style=\"fill:#1f77b4;stroke:#1f77b4;\" x=\"289.889097\" xlink:href=\"#m522d7b1ab5\" y=\"126.046132\"/>\r\n     <use style=\"fill:#1f77b4;stroke:#1f77b4;\" x=\"296.1006\" xlink:href=\"#m522d7b1ab5\" y=\"145.286281\"/>\r\n     <use style=\"fill:#1f77b4;stroke:#1f77b4;\" x=\"302.312103\" xlink:href=\"#m522d7b1ab5\" y=\"163.221194\"/>\r\n     <use style=\"fill:#1f77b4;stroke:#1f77b4;\" x=\"308.523606\" xlink:href=\"#m522d7b1ab5\" y=\"179.106493\"/>\r\n     <use style=\"fill:#1f77b4;stroke:#1f77b4;\" x=\"314.735108\" xlink:href=\"#m522d7b1ab5\" y=\"192.282851\"/>\r\n     <use style=\"fill:#1f77b4;stroke:#1f77b4;\" x=\"320.946611\" xlink:href=\"#m522d7b1ab5\" y=\"202.203389\"/>\r\n     <use style=\"fill:#1f77b4;stroke:#1f77b4;\" x=\"327.158114\" xlink:href=\"#m522d7b1ab5\" y=\"208.45635\"/>\r\n     <use style=\"fill:#1f77b4;stroke:#1f77b4;\" x=\"333.369617\" xlink:href=\"#m522d7b1ab5\" y=\"210.782204\"/>\r\n     <use style=\"fill:#1f77b4;stroke:#1f77b4;\" x=\"339.58112\" xlink:href=\"#m522d7b1ab5\" y=\"209.084426\"/>\r\n     <use style=\"fill:#1f77b4;stroke:#1f77b4;\" x=\"345.792622\" xlink:href=\"#m522d7b1ab5\" y=\"203.433477\"/>\r\n     <use style=\"fill:#1f77b4;stroke:#1f77b4;\" x=\"352.004125\" xlink:href=\"#m522d7b1ab5\" y=\"194.063894\"/>\r\n     <use style=\"fill:#1f77b4;stroke:#1f77b4;\" x=\"358.215628\" xlink:href=\"#m522d7b1ab5\" y=\"181.364571\"/>\r\n    </g>\r\n   </g>\r\n   <g id=\"PathCollection_2\">\r\n    <defs>\r\n     <path d=\"M 0 3 \r\nC 0.795609 3 1.55874 2.683901 2.12132 2.12132 \r\nC 2.683901 1.55874 3 0.795609 3 0 \r\nC 3 -0.795609 2.683901 -1.55874 2.12132 -2.12132 \r\nC 1.55874 -2.683901 0.795609 -3 0 -3 \r\nC -0.795609 -3 -1.55874 -2.683901 -2.12132 -2.12132 \r\nC -2.683901 -1.55874 -3 -0.795609 -3 0 \r\nC -3 0.795609 -2.683901 1.55874 -2.12132 2.12132 \r\nC -1.55874 2.683901 -0.795609 3 0 3 \r\nz\r\n\" id=\"m6f74715bf8\" style=\"stroke:#ff7f0e;\"/>\r\n    </defs>\r\n    <g clip-path=\"url(#pddf66d90b8)\">\r\n     <use style=\"fill:#ff7f0e;stroke:#ff7f0e;\" x=\"66.274997\" xlink:href=\"#m6f74715bf8\" y=\"23.658397\"/>\r\n     <use style=\"fill:#ff7f0e;stroke:#ff7f0e;\" x=\"72.4865\" xlink:href=\"#m6f74715bf8\" y=\"30.790405\"/>\r\n     <use style=\"fill:#ff7f0e;stroke:#ff7f0e;\" x=\"78.698003\" xlink:href=\"#m6f74715bf8\" y=\"44.404247\"/>\r\n     <use style=\"fill:#ff7f0e;stroke:#ff7f0e;\" x=\"84.909505\" xlink:href=\"#m6f74715bf8\" y=\"62.77478\"/>\r\n     <use style=\"fill:#ff7f0e;stroke:#ff7f0e;\" x=\"91.121008\" xlink:href=\"#m6f74715bf8\" y=\"82.712682\"/>\r\n     <use style=\"fill:#ff7f0e;stroke:#ff7f0e;\" x=\"97.332511\" xlink:href=\"#m6f74715bf8\" y=\"103.175849\"/>\r\n     <use style=\"fill:#ff7f0e;stroke:#ff7f0e;\" x=\"103.544014\" xlink:href=\"#m6f74715bf8\" y=\"122.902147\"/>\r\n     <use style=\"fill:#ff7f0e;stroke:#ff7f0e;\" x=\"109.755517\" xlink:href=\"#m6f74715bf8\" y=\"141.182492\"/>\r\n     <use style=\"fill:#ff7f0e;stroke:#ff7f0e;\" x=\"115.967019\" xlink:href=\"#m6f74715bf8\" y=\"157.531925\"/>\r\n     <use style=\"fill:#ff7f0e;stroke:#ff7f0e;\" x=\"122.178522\" xlink:href=\"#m6f74715bf8\" y=\"171.737822\"/>\r\n     <use style=\"fill:#ff7f0e;stroke:#ff7f0e;\" x=\"128.390025\" xlink:href=\"#m6f74715bf8\" y=\"183.899465\"/>\r\n     <use style=\"fill:#ff7f0e;stroke:#ff7f0e;\" x=\"134.601528\" xlink:href=\"#m6f74715bf8\" y=\"194.291749\"/>\r\n     <use style=\"fill:#ff7f0e;stroke:#ff7f0e;\" x=\"140.81303\" xlink:href=\"#m6f74715bf8\" y=\"203.004205\"/>\r\n     <use style=\"fill:#ff7f0e;stroke:#ff7f0e;\" x=\"147.024533\" xlink:href=\"#m6f74715bf8\" y=\"209.715986\"/>\r\n     <use style=\"fill:#ff7f0e;stroke:#ff7f0e;\" x=\"153.236036\" xlink:href=\"#m6f74715bf8\" y=\"213.820266\"/>\r\n     <use style=\"fill:#ff7f0e;stroke:#ff7f0e;\" x=\"159.447539\" xlink:href=\"#m6f74715bf8\" y=\"214.756364\"/>\r\n     <use style=\"fill:#ff7f0e;stroke:#ff7f0e;\" x=\"165.659042\" xlink:href=\"#m6f74715bf8\" y=\"212.276215\"/>\r\n     <use style=\"fill:#ff7f0e;stroke:#ff7f0e;\" x=\"171.870544\" xlink:href=\"#m6f74715bf8\" y=\"206.478664\"/>\r\n     <use style=\"fill:#ff7f0e;stroke:#ff7f0e;\" x=\"178.082047\" xlink:href=\"#m6f74715bf8\" y=\"197.645068\"/>\r\n     <use style=\"fill:#ff7f0e;stroke:#ff7f0e;\" x=\"184.29355\" xlink:href=\"#m6f74715bf8\" y=\"186.045366\"/>\r\n     <use style=\"fill:#ff7f0e;stroke:#ff7f0e;\" x=\"190.505053\" xlink:href=\"#m6f74715bf8\" y=\"171.858424\"/>\r\n     <use style=\"fill:#ff7f0e;stroke:#ff7f0e;\" x=\"196.716556\" xlink:href=\"#m6f74715bf8\" y=\"155.245148\"/>\r\n     <use style=\"fill:#ff7f0e;stroke:#ff7f0e;\" x=\"202.928058\" xlink:href=\"#m6f74715bf8\" y=\"136.525498\"/>\r\n     <use style=\"fill:#ff7f0e;stroke:#ff7f0e;\" x=\"209.139561\" xlink:href=\"#m6f74715bf8\" y=\"116.321761\"/>\r\n     <use style=\"fill:#ff7f0e;stroke:#ff7f0e;\" x=\"215.351064\" xlink:href=\"#m6f74715bf8\" y=\"95.507137\"/>\r\n     <use style=\"fill:#ff7f0e;stroke:#ff7f0e;\" x=\"221.562567\" xlink:href=\"#m6f74715bf8\" y=\"75.075732\"/>\r\n     <use style=\"fill:#ff7f0e;stroke:#ff7f0e;\" x=\"227.774069\" xlink:href=\"#m6f74715bf8\" y=\"56.262641\"/>\r\n     <use style=\"fill:#ff7f0e;stroke:#ff7f0e;\" x=\"233.985572\" xlink:href=\"#m6f74715bf8\" y=\"40.529655\"/>\r\n     <use style=\"fill:#ff7f0e;stroke:#ff7f0e;\" x=\"240.197075\" xlink:href=\"#m6f74715bf8\" y=\"28.922486\"/>\r\n     <use style=\"fill:#ff7f0e;stroke:#ff7f0e;\" x=\"246.408578\" xlink:href=\"#m6f74715bf8\" y=\"21.648707\"/>\r\n     <use style=\"fill:#ff7f0e;stroke:#ff7f0e;\" x=\"252.620081\" xlink:href=\"#m6f74715bf8\" y=\"18.368602\"/>\r\n     <use style=\"fill:#ff7f0e;stroke:#ff7f0e;\" x=\"258.831583\" xlink:href=\"#m6f74715bf8\" y=\"18.557414\"/>\r\n     <use style=\"fill:#ff7f0e;stroke:#ff7f0e;\" x=\"265.043086\" xlink:href=\"#m6f74715bf8\" y=\"21.665847\"/>\r\n     <use style=\"fill:#ff7f0e;stroke:#ff7f0e;\" x=\"271.254589\" xlink:href=\"#m6f74715bf8\" y=\"27.214068\"/>\r\n     <use style=\"fill:#ff7f0e;stroke:#ff7f0e;\" x=\"277.466092\" xlink:href=\"#m6f74715bf8\" y=\"34.846725\"/>\r\n     <use style=\"fill:#ff7f0e;stroke:#ff7f0e;\" x=\"283.677595\" xlink:href=\"#m6f74715bf8\" y=\"44.334552\"/>\r\n     <use style=\"fill:#ff7f0e;stroke:#ff7f0e;\" x=\"289.889097\" xlink:href=\"#m6f74715bf8\" y=\"55.531248\"/>\r\n     <use style=\"fill:#ff7f0e;stroke:#ff7f0e;\" x=\"296.1006\" xlink:href=\"#m6f74715bf8\" y=\"68.300671\"/>\r\n     <use style=\"fill:#ff7f0e;stroke:#ff7f0e;\" x=\"302.312103\" xlink:href=\"#m6f74715bf8\" y=\"82.431839\"/>\r\n     <use style=\"fill:#ff7f0e;stroke:#ff7f0e;\" x=\"308.523606\" xlink:href=\"#m6f74715bf8\" y=\"97.573326\"/>\r\n     <use style=\"fill:#ff7f0e;stroke:#ff7f0e;\" x=\"314.735108\" xlink:href=\"#m6f74715bf8\" y=\"113.231457\"/>\r\n     <use style=\"fill:#ff7f0e;stroke:#ff7f0e;\" x=\"320.946611\" xlink:href=\"#m6f74715bf8\" y=\"128.850522\"/>\r\n     <use style=\"fill:#ff7f0e;stroke:#ff7f0e;\" x=\"327.158114\" xlink:href=\"#m6f74715bf8\" y=\"143.922428\"/>\r\n     <use style=\"fill:#ff7f0e;stroke:#ff7f0e;\" x=\"333.369617\" xlink:href=\"#m6f74715bf8\" y=\"158.057186\"/>\r\n     <use style=\"fill:#ff7f0e;stroke:#ff7f0e;\" x=\"339.58112\" xlink:href=\"#m6f74715bf8\" y=\"171.019645\"/>\r\n     <use style=\"fill:#ff7f0e;stroke:#ff7f0e;\" x=\"345.792622\" xlink:href=\"#m6f74715bf8\" y=\"182.723416\"/>\r\n     <use style=\"fill:#ff7f0e;stroke:#ff7f0e;\" x=\"352.004125\" xlink:href=\"#m6f74715bf8\" y=\"193.10965\"/>\r\n     <use style=\"fill:#ff7f0e;stroke:#ff7f0e;\" x=\"358.215628\" xlink:href=\"#m6f74715bf8\" y=\"201.955492\"/>\r\n     <use style=\"fill:#ff7f0e;stroke:#ff7f0e;\" x=\"364.427131\" xlink:href=\"#m6f74715bf8\" y=\"208.784668\"/>\r\n    </g>\r\n   </g>\r\n   <g id=\"matplotlib.axis_1\">\r\n    <g id=\"xtick_1\">\r\n     <g id=\"line2d_1\">\r\n      <defs>\r\n       <path d=\"M 0 0 \r\nL 0 3.5 \r\n\" id=\"m649284964c\" style=\"stroke:#000000;stroke-width:0.8;\"/>\r\n      </defs>\r\n      <g>\r\n       <use style=\"stroke:#000000;stroke-width:0.8;\" x=\"60.063494\" xlink:href=\"#m649284964c\" y=\"224.64\"/>\r\n      </g>\r\n     </g>\r\n     <g id=\"text_1\">\r\n      <!-- 2 -->\r\n      <g transform=\"translate(56.882244 239.238437)scale(0.1 -0.1)\">\r\n       <defs>\r\n        <path d=\"M 19.1875 8.296875 \r\nL 53.609375 8.296875 \r\nL 53.609375 0 \r\nL 7.328125 0 \r\nL 7.328125 8.296875 \r\nQ 12.9375 14.109375 22.625 23.890625 \r\nQ 32.328125 33.6875 34.8125 36.53125 \r\nQ 39.546875 41.84375 41.421875 45.53125 \r\nQ 43.3125 49.21875 43.3125 52.78125 \r\nQ 43.3125 58.59375 39.234375 62.25 \r\nQ 35.15625 65.921875 28.609375 65.921875 \r\nQ 23.96875 65.921875 18.8125 64.3125 \r\nQ 13.671875 62.703125 7.8125 59.421875 \r\nL 7.8125 69.390625 \r\nQ 13.765625 71.78125 18.9375 73 \r\nQ 24.125 74.21875 28.421875 74.21875 \r\nQ 39.75 74.21875 46.484375 68.546875 \r\nQ 53.21875 62.890625 53.21875 53.421875 \r\nQ 53.21875 48.921875 51.53125 44.890625 \r\nQ 49.859375 40.875 45.40625 35.40625 \r\nQ 44.1875 33.984375 37.640625 27.21875 \r\nQ 31.109375 20.453125 19.1875 8.296875 \r\nz\r\n\" id=\"DejaVuSans-50\"/>\r\n       </defs>\r\n       <use xlink:href=\"#DejaVuSans-50\"/>\r\n      </g>\r\n     </g>\r\n    </g>\r\n    <g id=\"xtick_2\">\r\n     <g id=\"line2d_2\">\r\n      <g>\r\n       <use style=\"stroke:#000000;stroke-width:0.8;\" x=\"120.936222\" xlink:href=\"#m649284964c\" y=\"224.64\"/>\r\n      </g>\r\n     </g>\r\n     <g id=\"text_2\">\r\n      <!-- 4 -->\r\n      <g transform=\"translate(117.754972 239.238437)scale(0.1 -0.1)\">\r\n       <defs>\r\n        <path d=\"M 37.796875 64.3125 \r\nL 12.890625 25.390625 \r\nL 37.796875 25.390625 \r\nz\r\nM 35.203125 72.90625 \r\nL 47.609375 72.90625 \r\nL 47.609375 25.390625 \r\nL 58.015625 25.390625 \r\nL 58.015625 17.1875 \r\nL 47.609375 17.1875 \r\nL 47.609375 0 \r\nL 37.796875 0 \r\nL 37.796875 17.1875 \r\nL 4.890625 17.1875 \r\nL 4.890625 26.703125 \r\nz\r\n\" id=\"DejaVuSans-52\"/>\r\n       </defs>\r\n       <use xlink:href=\"#DejaVuSans-52\"/>\r\n      </g>\r\n     </g>\r\n    </g>\r\n    <g id=\"xtick_3\">\r\n     <g id=\"line2d_3\">\r\n      <g>\r\n       <use style=\"stroke:#000000;stroke-width:0.8;\" x=\"181.808949\" xlink:href=\"#m649284964c\" y=\"224.64\"/>\r\n      </g>\r\n     </g>\r\n     <g id=\"text_3\">\r\n      <!-- 6 -->\r\n      <g transform=\"translate(178.627699 239.238437)scale(0.1 -0.1)\">\r\n       <defs>\r\n        <path d=\"M 33.015625 40.375 \r\nQ 26.375 40.375 22.484375 35.828125 \r\nQ 18.609375 31.296875 18.609375 23.390625 \r\nQ 18.609375 15.53125 22.484375 10.953125 \r\nQ 26.375 6.390625 33.015625 6.390625 \r\nQ 39.65625 6.390625 43.53125 10.953125 \r\nQ 47.40625 15.53125 47.40625 23.390625 \r\nQ 47.40625 31.296875 43.53125 35.828125 \r\nQ 39.65625 40.375 33.015625 40.375 \r\nz\r\nM 52.59375 71.296875 \r\nL 52.59375 62.3125 \r\nQ 48.875 64.0625 45.09375 64.984375 \r\nQ 41.3125 65.921875 37.59375 65.921875 \r\nQ 27.828125 65.921875 22.671875 59.328125 \r\nQ 17.53125 52.734375 16.796875 39.40625 \r\nQ 19.671875 43.65625 24.015625 45.921875 \r\nQ 28.375 48.1875 33.59375 48.1875 \r\nQ 44.578125 48.1875 50.953125 41.515625 \r\nQ 57.328125 34.859375 57.328125 23.390625 \r\nQ 57.328125 12.15625 50.6875 5.359375 \r\nQ 44.046875 -1.421875 33.015625 -1.421875 \r\nQ 20.359375 -1.421875 13.671875 8.265625 \r\nQ 6.984375 17.96875 6.984375 36.375 \r\nQ 6.984375 53.65625 15.1875 63.9375 \r\nQ 23.390625 74.21875 37.203125 74.21875 \r\nQ 40.921875 74.21875 44.703125 73.484375 \r\nQ 48.484375 72.75 52.59375 71.296875 \r\nz\r\n\" id=\"DejaVuSans-54\"/>\r\n       </defs>\r\n       <use xlink:href=\"#DejaVuSans-54\"/>\r\n      </g>\r\n     </g>\r\n    </g>\r\n    <g id=\"xtick_4\">\r\n     <g id=\"line2d_4\">\r\n      <g>\r\n       <use style=\"stroke:#000000;stroke-width:0.8;\" x=\"242.681676\" xlink:href=\"#m649284964c\" y=\"224.64\"/>\r\n      </g>\r\n     </g>\r\n     <g id=\"text_4\">\r\n      <!-- 8 -->\r\n      <g transform=\"translate(239.500426 239.238437)scale(0.1 -0.1)\">\r\n       <defs>\r\n        <path d=\"M 31.78125 34.625 \r\nQ 24.75 34.625 20.71875 30.859375 \r\nQ 16.703125 27.09375 16.703125 20.515625 \r\nQ 16.703125 13.921875 20.71875 10.15625 \r\nQ 24.75 6.390625 31.78125 6.390625 \r\nQ 38.8125 6.390625 42.859375 10.171875 \r\nQ 46.921875 13.96875 46.921875 20.515625 \r\nQ 46.921875 27.09375 42.890625 30.859375 \r\nQ 38.875 34.625 31.78125 34.625 \r\nz\r\nM 21.921875 38.8125 \r\nQ 15.578125 40.375 12.03125 44.71875 \r\nQ 8.5 49.078125 8.5 55.328125 \r\nQ 8.5 64.0625 14.71875 69.140625 \r\nQ 20.953125 74.21875 31.78125 74.21875 \r\nQ 42.671875 74.21875 48.875 69.140625 \r\nQ 55.078125 64.0625 55.078125 55.328125 \r\nQ 55.078125 49.078125 51.53125 44.71875 \r\nQ 48 40.375 41.703125 38.8125 \r\nQ 48.828125 37.15625 52.796875 32.3125 \r\nQ 56.78125 27.484375 56.78125 20.515625 \r\nQ 56.78125 9.90625 50.3125 4.234375 \r\nQ 43.84375 -1.421875 31.78125 -1.421875 \r\nQ 19.734375 -1.421875 13.25 4.234375 \r\nQ 6.78125 9.90625 6.78125 20.515625 \r\nQ 6.78125 27.484375 10.78125 32.3125 \r\nQ 14.796875 37.15625 21.921875 38.8125 \r\nz\r\nM 18.3125 54.390625 \r\nQ 18.3125 48.734375 21.84375 45.5625 \r\nQ 25.390625 42.390625 31.78125 42.390625 \r\nQ 38.140625 42.390625 41.71875 45.5625 \r\nQ 45.3125 48.734375 45.3125 54.390625 \r\nQ 45.3125 60.0625 41.71875 63.234375 \r\nQ 38.140625 66.40625 31.78125 66.40625 \r\nQ 25.390625 66.40625 21.84375 63.234375 \r\nQ 18.3125 60.0625 18.3125 54.390625 \r\nz\r\n\" id=\"DejaVuSans-56\"/>\r\n       </defs>\r\n       <use xlink:href=\"#DejaVuSans-56\"/>\r\n      </g>\r\n     </g>\r\n    </g>\r\n    <g id=\"xtick_5\">\r\n     <g id=\"line2d_5\">\r\n      <g>\r\n       <use style=\"stroke:#000000;stroke-width:0.8;\" x=\"303.554403\" xlink:href=\"#m649284964c\" y=\"224.64\"/>\r\n      </g>\r\n     </g>\r\n     <g id=\"text_5\">\r\n      <!-- 10 -->\r\n      <g transform=\"translate(297.191903 239.238437)scale(0.1 -0.1)\">\r\n       <defs>\r\n        <path d=\"M 12.40625 8.296875 \r\nL 28.515625 8.296875 \r\nL 28.515625 63.921875 \r\nL 10.984375 60.40625 \r\nL 10.984375 69.390625 \r\nL 28.421875 72.90625 \r\nL 38.28125 72.90625 \r\nL 38.28125 8.296875 \r\nL 54.390625 8.296875 \r\nL 54.390625 0 \r\nL 12.40625 0 \r\nz\r\n\" id=\"DejaVuSans-49\"/>\r\n        <path d=\"M 31.78125 66.40625 \r\nQ 24.171875 66.40625 20.328125 58.90625 \r\nQ 16.5 51.421875 16.5 36.375 \r\nQ 16.5 21.390625 20.328125 13.890625 \r\nQ 24.171875 6.390625 31.78125 6.390625 \r\nQ 39.453125 6.390625 43.28125 13.890625 \r\nQ 47.125 21.390625 47.125 36.375 \r\nQ 47.125 51.421875 43.28125 58.90625 \r\nQ 39.453125 66.40625 31.78125 66.40625 \r\nz\r\nM 31.78125 74.21875 \r\nQ 44.046875 74.21875 50.515625 64.515625 \r\nQ 56.984375 54.828125 56.984375 36.375 \r\nQ 56.984375 17.96875 50.515625 8.265625 \r\nQ 44.046875 -1.421875 31.78125 -1.421875 \r\nQ 19.53125 -1.421875 13.0625 8.265625 \r\nQ 6.59375 17.96875 6.59375 36.375 \r\nQ 6.59375 54.828125 13.0625 64.515625 \r\nQ 19.53125 74.21875 31.78125 74.21875 \r\nz\r\n\" id=\"DejaVuSans-48\"/>\r\n       </defs>\r\n       <use xlink:href=\"#DejaVuSans-49\"/>\r\n       <use x=\"63.623047\" xlink:href=\"#DejaVuSans-48\"/>\r\n      </g>\r\n     </g>\r\n    </g>\r\n    <g id=\"xtick_6\">\r\n     <g id=\"line2d_6\">\r\n      <g>\r\n       <use style=\"stroke:#000000;stroke-width:0.8;\" x=\"364.427131\" xlink:href=\"#m649284964c\" y=\"224.64\"/>\r\n      </g>\r\n     </g>\r\n     <g id=\"text_6\">\r\n      <!-- 12 -->\r\n      <g transform=\"translate(358.064631 239.238437)scale(0.1 -0.1)\">\r\n       <use xlink:href=\"#DejaVuSans-49\"/>\r\n       <use x=\"63.623047\" xlink:href=\"#DejaVuSans-50\"/>\r\n      </g>\r\n     </g>\r\n    </g>\r\n   </g>\r\n   <g id=\"matplotlib.axis_2\">\r\n    <g id=\"ytick_1\">\r\n     <g id=\"line2d_7\">\r\n      <defs>\r\n       <path d=\"M 0 0 \r\nL -3.5 0 \r\n\" id=\"m5226b16ffd\" style=\"stroke:#000000;stroke-width:0.8;\"/>\r\n      </defs>\r\n      <g>\r\n       <use style=\"stroke:#000000;stroke-width:0.8;\" x=\"44.845313\" xlink:href=\"#m5226b16ffd\" y=\"210.794589\"/>\r\n      </g>\r\n     </g>\r\n     <g id=\"text_7\">\r\n      <!-- −1.00 -->\r\n      <g transform=\"translate(7.2 214.593808)scale(0.1 -0.1)\">\r\n       <defs>\r\n        <path d=\"M 10.59375 35.5 \r\nL 73.1875 35.5 \r\nL 73.1875 27.203125 \r\nL 10.59375 27.203125 \r\nz\r\n\" id=\"DejaVuSans-8722\"/>\r\n        <path d=\"M 10.6875 12.40625 \r\nL 21 12.40625 \r\nL 21 0 \r\nL 10.6875 0 \r\nz\r\n\" id=\"DejaVuSans-46\"/>\r\n       </defs>\r\n       <use xlink:href=\"#DejaVuSans-8722\"/>\r\n       <use x=\"83.789062\" xlink:href=\"#DejaVuSans-49\"/>\r\n       <use x=\"147.412109\" xlink:href=\"#DejaVuSans-46\"/>\r\n       <use x=\"179.199219\" xlink:href=\"#DejaVuSans-48\"/>\r\n       <use x=\"242.822266\" xlink:href=\"#DejaVuSans-48\"/>\r\n      </g>\r\n     </g>\r\n    </g>\r\n    <g id=\"ytick_2\">\r\n     <g id=\"line2d_8\">\r\n      <g>\r\n       <use style=\"stroke:#000000;stroke-width:0.8;\" x=\"44.845313\" xlink:href=\"#m5226b16ffd\" y=\"186.555608\"/>\r\n      </g>\r\n     </g>\r\n     <g id=\"text_8\">\r\n      <!-- −0.75 -->\r\n      <g transform=\"translate(7.2 190.354826)scale(0.1 -0.1)\">\r\n       <defs>\r\n        <path d=\"M 8.203125 72.90625 \r\nL 55.078125 72.90625 \r\nL 55.078125 68.703125 \r\nL 28.609375 0 \r\nL 18.3125 0 \r\nL 43.21875 64.59375 \r\nL 8.203125 64.59375 \r\nz\r\n\" id=\"DejaVuSans-55\"/>\r\n        <path d=\"M 10.796875 72.90625 \r\nL 49.515625 72.90625 \r\nL 49.515625 64.59375 \r\nL 19.828125 64.59375 \r\nL 19.828125 46.734375 \r\nQ 21.96875 47.46875 24.109375 47.828125 \r\nQ 26.265625 48.1875 28.421875 48.1875 \r\nQ 40.625 48.1875 47.75 41.5 \r\nQ 54.890625 34.8125 54.890625 23.390625 \r\nQ 54.890625 11.625 47.5625 5.09375 \r\nQ 40.234375 -1.421875 26.90625 -1.421875 \r\nQ 22.3125 -1.421875 17.546875 -0.640625 \r\nQ 12.796875 0.140625 7.71875 1.703125 \r\nL 7.71875 11.625 \r\nQ 12.109375 9.234375 16.796875 8.0625 \r\nQ 21.484375 6.890625 26.703125 6.890625 \r\nQ 35.15625 6.890625 40.078125 11.328125 \r\nQ 45.015625 15.765625 45.015625 23.390625 \r\nQ 45.015625 31 40.078125 35.4375 \r\nQ 35.15625 39.890625 26.703125 39.890625 \r\nQ 22.75 39.890625 18.8125 39.015625 \r\nQ 14.890625 38.140625 10.796875 36.28125 \r\nz\r\n\" id=\"DejaVuSans-53\"/>\r\n       </defs>\r\n       <use xlink:href=\"#DejaVuSans-8722\"/>\r\n       <use x=\"83.789062\" xlink:href=\"#DejaVuSans-48\"/>\r\n       <use x=\"147.412109\" xlink:href=\"#DejaVuSans-46\"/>\r\n       <use x=\"179.199219\" xlink:href=\"#DejaVuSans-55\"/>\r\n       <use x=\"242.822266\" xlink:href=\"#DejaVuSans-53\"/>\r\n      </g>\r\n     </g>\r\n    </g>\r\n    <g id=\"ytick_3\">\r\n     <g id=\"line2d_9\">\r\n      <g>\r\n       <use style=\"stroke:#000000;stroke-width:0.8;\" x=\"44.845313\" xlink:href=\"#m5226b16ffd\" y=\"162.316627\"/>\r\n      </g>\r\n     </g>\r\n     <g id=\"text_9\">\r\n      <!-- −0.50 -->\r\n      <g transform=\"translate(7.2 166.115845)scale(0.1 -0.1)\">\r\n       <use xlink:href=\"#DejaVuSans-8722\"/>\r\n       <use x=\"83.789062\" xlink:href=\"#DejaVuSans-48\"/>\r\n       <use x=\"147.412109\" xlink:href=\"#DejaVuSans-46\"/>\r\n       <use x=\"179.199219\" xlink:href=\"#DejaVuSans-53\"/>\r\n       <use x=\"242.822266\" xlink:href=\"#DejaVuSans-48\"/>\r\n      </g>\r\n     </g>\r\n    </g>\r\n    <g id=\"ytick_4\">\r\n     <g id=\"line2d_10\">\r\n      <g>\r\n       <use style=\"stroke:#000000;stroke-width:0.8;\" x=\"44.845313\" xlink:href=\"#m5226b16ffd\" y=\"138.077646\"/>\r\n      </g>\r\n     </g>\r\n     <g id=\"text_10\">\r\n      <!-- −0.25 -->\r\n      <g transform=\"translate(7.2 141.876864)scale(0.1 -0.1)\">\r\n       <use xlink:href=\"#DejaVuSans-8722\"/>\r\n       <use x=\"83.789062\" xlink:href=\"#DejaVuSans-48\"/>\r\n       <use x=\"147.412109\" xlink:href=\"#DejaVuSans-46\"/>\r\n       <use x=\"179.199219\" xlink:href=\"#DejaVuSans-50\"/>\r\n       <use x=\"242.822266\" xlink:href=\"#DejaVuSans-53\"/>\r\n      </g>\r\n     </g>\r\n    </g>\r\n    <g id=\"ytick_5\">\r\n     <g id=\"line2d_11\">\r\n      <g>\r\n       <use style=\"stroke:#000000;stroke-width:0.8;\" x=\"44.845313\" xlink:href=\"#m5226b16ffd\" y=\"113.838664\"/>\r\n      </g>\r\n     </g>\r\n     <g id=\"text_11\">\r\n      <!-- 0.00 -->\r\n      <g transform=\"translate(15.579688 117.637883)scale(0.1 -0.1)\">\r\n       <use xlink:href=\"#DejaVuSans-48\"/>\r\n       <use x=\"63.623047\" xlink:href=\"#DejaVuSans-46\"/>\r\n       <use x=\"95.410156\" xlink:href=\"#DejaVuSans-48\"/>\r\n       <use x=\"159.033203\" xlink:href=\"#DejaVuSans-48\"/>\r\n      </g>\r\n     </g>\r\n    </g>\r\n    <g id=\"ytick_6\">\r\n     <g id=\"line2d_12\">\r\n      <g>\r\n       <use style=\"stroke:#000000;stroke-width:0.8;\" x=\"44.845313\" xlink:href=\"#m5226b16ffd\" y=\"89.599683\"/>\r\n      </g>\r\n     </g>\r\n     <g id=\"text_12\">\r\n      <!-- 0.25 -->\r\n      <g transform=\"translate(15.579688 93.398902)scale(0.1 -0.1)\">\r\n       <use xlink:href=\"#DejaVuSans-48\"/>\r\n       <use x=\"63.623047\" xlink:href=\"#DejaVuSans-46\"/>\r\n       <use x=\"95.410156\" xlink:href=\"#DejaVuSans-50\"/>\r\n       <use x=\"159.033203\" xlink:href=\"#DejaVuSans-53\"/>\r\n      </g>\r\n     </g>\r\n    </g>\r\n    <g id=\"ytick_7\">\r\n     <g id=\"line2d_13\">\r\n      <g>\r\n       <use style=\"stroke:#000000;stroke-width:0.8;\" x=\"44.845313\" xlink:href=\"#m5226b16ffd\" y=\"65.360702\"/>\r\n      </g>\r\n     </g>\r\n     <g id=\"text_13\">\r\n      <!-- 0.50 -->\r\n      <g transform=\"translate(15.579688 69.159921)scale(0.1 -0.1)\">\r\n       <use xlink:href=\"#DejaVuSans-48\"/>\r\n       <use x=\"63.623047\" xlink:href=\"#DejaVuSans-46\"/>\r\n       <use x=\"95.410156\" xlink:href=\"#DejaVuSans-53\"/>\r\n       <use x=\"159.033203\" xlink:href=\"#DejaVuSans-48\"/>\r\n      </g>\r\n     </g>\r\n    </g>\r\n    <g id=\"ytick_8\">\r\n     <g id=\"line2d_14\">\r\n      <g>\r\n       <use style=\"stroke:#000000;stroke-width:0.8;\" x=\"44.845313\" xlink:href=\"#m5226b16ffd\" y=\"41.121721\"/>\r\n      </g>\r\n     </g>\r\n     <g id=\"text_14\">\r\n      <!-- 0.75 -->\r\n      <g transform=\"translate(15.579688 44.92094)scale(0.1 -0.1)\">\r\n       <use xlink:href=\"#DejaVuSans-48\"/>\r\n       <use x=\"63.623047\" xlink:href=\"#DejaVuSans-46\"/>\r\n       <use x=\"95.410156\" xlink:href=\"#DejaVuSans-55\"/>\r\n       <use x=\"159.033203\" xlink:href=\"#DejaVuSans-53\"/>\r\n      </g>\r\n     </g>\r\n    </g>\r\n    <g id=\"ytick_9\">\r\n     <g id=\"line2d_15\">\r\n      <g>\r\n       <use style=\"stroke:#000000;stroke-width:0.8;\" x=\"44.845313\" xlink:href=\"#m5226b16ffd\" y=\"16.88274\"/>\r\n      </g>\r\n     </g>\r\n     <g id=\"text_15\">\r\n      <!-- 1.00 -->\r\n      <g transform=\"translate(15.579688 20.681959)scale(0.1 -0.1)\">\r\n       <use xlink:href=\"#DejaVuSans-49\"/>\r\n       <use x=\"63.623047\" xlink:href=\"#DejaVuSans-46\"/>\r\n       <use x=\"95.410156\" xlink:href=\"#DejaVuSans-48\"/>\r\n       <use x=\"159.033203\" xlink:href=\"#DejaVuSans-48\"/>\r\n      </g>\r\n     </g>\r\n    </g>\r\n   </g>\r\n   <g id=\"line2d_16\">\r\n    <path clip-path=\"url(#pddf66d90b8)\" d=\"M 60.063494 25.676894 \r\nL 66.274997 35.683695 \r\nL 72.4865 48.934314 \r\nL 78.698003 64.878784 \r\nL 84.909505 82.855335 \r\nL 91.121008 102.117848 \r\nL 97.332511 121.866831 \r\nL 103.544014 141.282605 \r\nL 109.755517 159.559322 \r\nL 115.967019 175.938403 \r\nL 122.178522 189.74004 \r\nL 128.390025 200.391387 \r\nL 134.601528 207.450372 \r\nL 140.81303 210.624009 \r\nL 147.024533 209.780567 \r\nL 153.236036 204.955065 \r\nL 159.447539 196.347782 \r\nL 165.659042 184.315959 \r\nL 171.870544 169.358979 \r\nL 178.082047 152.097632 \r\nL 184.29355 133.248348 \r\nL 190.505053 113.593465 \r\nL 196.716556 93.94876 \r\nL 202.928058 75.129584 \r\nL 209.139561 57.917025 \r\nL 215.351064 43.025493 \r\nL 221.562567 31.073057 \r\nL 227.774069 22.555805 \r\nL 233.985572 17.827246 \r\nL 240.197075 17.083636 \r\nL 246.408578 20.355841 \r\nL 252.620081 27.508041 \r\nL 258.831583 38.243398 \r\nL 265.043086 52.116325 \r\nL 271.254589 68.551041 \r\nL 277.466092 86.865414 \r\nL 283.677595 106.299313 \r\nL 289.889097 126.046132 \r\nL 296.1006 145.286281 \r\nL 302.312103 163.221194 \r\nL 308.523606 179.106493 \r\nL 314.735108 192.282851 \r\nL 320.946611 202.203389 \r\nL 327.158114 208.45635 \r\nL 333.369617 210.782204 \r\nL 339.58112 209.084426 \r\nL 345.792622 203.433477 \r\nL 352.004125 194.063894 \r\nL 358.215628 181.364571 \r\n\" style=\"fill:none;stroke:#1f77b4;stroke-linecap:square;stroke-width:1.5;\"/>\r\n   </g>\r\n   <g id=\"patch_3\">\r\n    <path d=\"M 44.845313 224.64 \r\nL 44.845313 7.2 \r\n\" style=\"fill:none;stroke:#000000;stroke-linecap:square;stroke-linejoin:miter;stroke-width:0.8;\"/>\r\n   </g>\r\n   <g id=\"patch_4\">\r\n    <path d=\"M 379.645313 224.64 \r\nL 379.645313 7.2 \r\n\" style=\"fill:none;stroke:#000000;stroke-linecap:square;stroke-linejoin:miter;stroke-width:0.8;\"/>\r\n   </g>\r\n   <g id=\"patch_5\">\r\n    <path d=\"M 44.845313 224.64 \r\nL 379.645313 224.64 \r\n\" style=\"fill:none;stroke:#000000;stroke-linecap:square;stroke-linejoin:miter;stroke-width:0.8;\"/>\r\n   </g>\r\n   <g id=\"patch_6\">\r\n    <path d=\"M 44.845313 7.2 \r\nL 379.645313 7.2 \r\n\" style=\"fill:none;stroke:#000000;stroke-linecap:square;stroke-linejoin:miter;stroke-width:0.8;\"/>\r\n   </g>\r\n  </g>\r\n </g>\r\n <defs>\r\n  <clipPath id=\"pddf66d90b8\">\r\n   <rect height=\"217.44\" width=\"334.8\" x=\"44.845313\" y=\"7.2\"/>\r\n  </clipPath>\r\n </defs>\r\n</svg>\r\n",
      "image/png": "[encoded data removed]"
     },
     "metadata": {
      "needs_background": "light"
     }
    }
   ],
   "source": [
    "predictions = []\n",
    "input = x[:, 0, :]\n",
    "for _ in range(x.shape[1]):\n",
    "    input = input.view(1, 1, 1)\n",
    "    (pred, hidden_prev) = model(input, hidden_prev)\n",
    "    input = pred\n",
    "    predictions.append(pred.detach().numpy().ravel()[0])\n",
    "\n",
    "x = x.data.numpy().ravel() # 多维转换为1维\n",
    "y = y.data.numpy()\n",
    "plt.scatter(time_steps[:-1], x.ravel(), s=90)\n",
    "plt.plot(time_steps[:-1], x.ravel())\n",
    "\n",
    "plt.scatter(time_steps[1:], predictions)\n",
    "plt.show()"
   ]
  },
  {
   "cell_type": "code",
   "execution_count": null,
   "metadata": {},
   "outputs": [],
   "source": []
  },
  {
   "cell_type": "code",
   "execution_count": null,
   "metadata": {},
   "outputs": [],
   "source": []
  },
  {
   "cell_type": "code",
   "execution_count": null,
   "metadata": {},
   "outputs": [],
   "source": []
  }
 ]
}