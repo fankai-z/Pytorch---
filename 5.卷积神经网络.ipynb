{
 "metadata": {
  "language_info": {
   "codemirror_mode": {
    "name": "ipython",
    "version": 3
   },
   "file_extension": ".py",
   "mimetype": "text/x-python",
   "name": "python",
   "nbconvert_exporter": "python",
   "pygments_lexer": "ipython3",
   "version": "3.8.5-final"
  },
  "orig_nbformat": 2,
  "kernelspec": {
   "name": "Python 3.8.5 64-bit ('pt1': conda)",
   "display_name": "Python 3.8.5 64-bit ('pt1': conda)",
   "metadata": {
    "interpreter": {
     "hash": "606908fc0c26d26e63c369289d4b4eb7ec00ae86ec85f16e9e0fe916ae62f542"
    }
   }
  }
 },
 "nbformat": 4,
 "nbformat_minor": 2,
 "cells": [
  {
   "source": [
    "## 1.二维卷积层"
   ],
   "cell_type": "markdown",
   "metadata": {}
  },
  {
   "source": [
    "### 1.1 二维互相关运算"
   ],
   "cell_type": "markdown",
   "metadata": {}
  },
  {
   "source": [
    "卷积层得名于卷积运算,但在卷积层中我们通常使用的是更加直观的``互相关运算``.  \n",
    "几个名词:  \n",
    "二维输入数组  \n",
    "二维核(卷积核,过滤器)  \n",
    "卷积核窗口(卷积窗口)  \n"
   ],
   "cell_type": "markdown",
   "metadata": {}
  },
  {
   "cell_type": "code",
   "execution_count": 13,
   "metadata": {},
   "outputs": [],
   "source": [
    "# 输入数组X, 核数组K, 输出数组Y.\n",
    "import torch\n",
    "from torch import nn\n",
    "def corr2d(X, K):\n",
    "    h, w = K.shape\n",
    "    Y = torch.zeros((X.shape[0]-h+1, X.shape[1]-w+1))\n",
    "\n",
    "    # 这个思路不错\n",
    "    for i in range(Y.shape[0]):\n",
    "        for j in range(Y.shape[1]):\n",
    "            Y[i, j] = (X[i:i+h, j:j+w]*K).sum()\n",
    "    return Y"
   ]
  },
  {
   "cell_type": "code",
   "execution_count": 14,
   "metadata": {},
   "outputs": [
    {
     "output_type": "stream",
     "name": "stdout",
     "text": [
      "tensor([[19., 25.],\n        [37., 43.]], device='cuda:0')\n"
     ]
    },
    {
     "output_type": "execute_result",
     "data": {
      "text/plain": [
       "device(type='cuda', index=0)"
      ]
     },
     "metadata": {},
     "execution_count": 14
    }
   ],
   "source": [
    "device = torch.device('cuda' if torch.cuda.is_available() else 'cpu')\n",
    "X = torch.tensor([[0, 1, 2], [3, 4, 5], [6, 7, 8]], device = device)\n",
    "K = torch.tensor([[0, 1], [2, 3]]).to(device)\n",
    "Y = corr2d(X, K).cuda()\n",
    "print(Y)\n",
    "Y.device"
   ]
  },
  {
   "source": [
    "### 1.2 二维卷积层"
   ],
   "cell_type": "markdown",
   "metadata": {}
  },
  {
   "source": [
    "将输入和卷积核做互相关运算,并加上一个``标量偏差``来得到输出.  \n",
    "模型参数包括卷积核和标量偏差."
   ],
   "cell_type": "markdown",
   "metadata": {}
  },
  {
   "cell_type": "code",
   "execution_count": 15,
   "metadata": {},
   "outputs": [],
   "source": [
    "class Conv2D(nn.Module):\n",
    "    def __init__(self, kernel_size):\n",
    "        super(Conv2D, self).__init__()\n",
    "        self.weight = nn.Parameter(torch.randn(kernel_size))\n",
    "        self.bias = nn.Parameter(torch.randn(1))\n",
    "    def forward(self, x):\n",
    "        return corr2d(x, self.weight) + self.bias"
   ]
  },
  {
   "cell_type": "code",
   "execution_count": 21,
   "metadata": {},
   "outputs": [
    {
     "output_type": "stream",
     "name": "stdout",
     "text": [
      "Setp 5, los 0.395\nSetp 10, los 0.068\nSetp 15, los 0.014\nSetp 20, los 0.003\n"
     ]
    }
   ],
   "source": [
    "X = torch.ones(6, 8)\n",
    "X[:, 2:6] = 0\n",
    "# print(X)\n",
    "K = torch.tensor([[1, -1]])\n",
    "Y = corr2d(X, K)\n",
    "# 实例化一个核数组形状是(1, 2)的二维卷积层\n",
    "conv2d = Conv2D(kernel_size=(1, 2))\n",
    "\n",
    "step = 20\n",
    "lr = 0.01\n",
    "for i in range(step):\n",
    "    Y_hat = conv2d(X)\n",
    "    l = ((Y_hat - Y) ** 2).sum()\n",
    "    l.backward()\n",
    "\n",
    "    # 梯度下降\n",
    "    conv2d.weight.data -= lr * conv2d.weight.grad\n",
    "    conv2d.bias.data -= lr * conv2d.bias.grad\n",
    "\n",
    "    # 梯度清0\n",
    "    conv2d.weight.grad.fill_(0)\n",
    "    conv2d.bias.grad.fill_(0)\n",
    "\n",
    "    if (i + 1) % 5 == 0:\n",
    "        print('Setp %d, los %.3f' % (i+1, l.item()))\n"
   ]
  },
  {
   "source": [
    "观察20次迭代后学习到的卷积核的参数."
   ],
   "cell_type": "markdown",
   "metadata": {}
  },
  {
   "cell_type": "code",
   "execution_count": 22,
   "metadata": {},
   "outputs": [
    {
     "output_type": "stream",
     "name": "stdout",
     "text": [
      "weight: tensor([[ 0.9884, -0.9831]])\nbias: tensor([-0.0029])\n"
     ]
    }
   ],
   "source": [
    "print(\"weight:\", conv2d.weight.data)\n",
    "print(\"bias:\", conv2d.bias.data)"
   ]
  },
  {
   "source": [
    "### 1.3 互相关运算和卷积运算\n"
   ],
   "cell_type": "markdown",
   "metadata": {}
  },
  {
   "source": [
    "实际上,卷积运算与互相关运算类似.  \n",
    "``为了得到卷积运算的输出,只需要将核数组左右翻转并上下翻转,再与输入数组做互相关运算.``  \n",
    "\n",
    "为什么卷积层能够使用互相关运算替代卷积运算?  \n",
    "核数组都是学习出来的,卷积层无论使用互相关运算还是卷积运算都不影响模型预测时的输出.不同的地方只在与学习出来的参数的形式不同."
   ],
   "cell_type": "markdown",
   "metadata": {}
  },
  {
   "source": [
    "## 2.填充和步幅"
   ],
   "cell_type": "markdown",
   "metadata": {}
  },
  {
   "cell_type": "code",
   "execution_count": 34,
   "metadata": {},
   "outputs": [
    {
     "output_type": "stream",
     "name": "stdout",
     "text": [
      "torch.Size([8, 8])\ntorch.Size([1, 1, 8, 8])\n"
     ]
    },
    {
     "output_type": "execute_result",
     "data": {
      "text/plain": [
       "torch.Size([8, 8])"
      ]
     },
     "metadata": {},
     "execution_count": 34
    }
   ],
   "source": [
    "import torch\n",
    "from torch import nn\n",
    "\n",
    "def comp_conv2d(conv2d, X):\n",
    "    print(X.shape)\n",
    "    X = X.view((1, 1) +  X.shape)\n",
    "    print(X.shape)\n",
    "    Y = conv2d(X)\n",
    "    return Y.view(Y.shape[2:])\n",
    "\n",
    "conv2d = nn.Conv2d(in_channels=1, out_channels=1, kernel_size=3, padding=1)\n",
    "X = torch.rand(8, 8)\n",
    "comp_conv2d(conv2d, X).shape"
   ]
  },
  {
   "source": [
    "### 给Tensor增加维度.  \n",
    "X.shape => \\[8, 8\\]  \n",
    "X.view((1, 1) + X.shape) => \\[1, 1, 8, 8\\]  \n",
    "X.view((1,) + X.shape+ (1,)) => \\[1, 8, 8, 1\\]"
   ],
   "cell_type": "markdown",
   "metadata": {}
  },
  {
   "source": [
    "## 3.多输入通道和多输出通道"
   ],
   "cell_type": "markdown",
   "metadata": {}
  },
  {
   "cell_type": "code",
   "execution_count": null,
   "metadata": {},
   "outputs": [],
   "source": []
  },
  {
   "cell_type": "code",
   "execution_count": null,
   "metadata": {},
   "outputs": [],
   "source": []
  },
  {
   "cell_type": "code",
   "execution_count": null,
   "metadata": {},
   "outputs": [],
   "source": []
  }
 ]
}